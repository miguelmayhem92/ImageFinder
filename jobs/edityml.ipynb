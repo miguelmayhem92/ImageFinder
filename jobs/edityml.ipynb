{
 "cells": [
  {
   "cell_type": "code",
   "execution_count": 1,
   "id": "36b9708b-6549-46b3-87b9-d9fa0b744a52",
   "metadata": {},
   "outputs": [],
   "source": [
    "import os\n",
    "import yaml\n",
    "from yaml import Loader, Dumper"
   ]
  },
  {
   "cell_type": "code",
   "execution_count": 2,
   "id": "3b683a69-9713-47cd-a424-896633cada53",
   "metadata": {},
   "outputs": [],
   "source": [
    "def edit_content(doc, source, edit_yml = False, yml_path = False, ini_patern= None, end_patern = None):\n",
    "    content = doc.get(source,False)\n",
    "    if content:\n",
    "        print(f'   {source} content: ',content)\n",
    "        \n",
    "        if edit_yml:\n",
    "            new_value = doc[source].replace(ini_patern, end_patern)\n",
    "            doc[source] = f\"{new_value}\"\n",
    "            print(f'   {source} new content: ', new_value)\n",
    "            with open(yml_path, 'w') as f:\n",
    "                yaml.dump(doc, f)"
   ]
  },
  {
   "cell_type": "code",
   "execution_count": 5,
   "id": "a8865a7c-7de2-4e7c-9f6f-f6616603e371",
   "metadata": {},
   "outputs": [
    {
     "name": "stdout",
     "output_type": "stream",
     "text": [
      "C:\\Users\\Miguel\\ImageFinder\\app\\mlruns\\0\\meta.yaml\n",
      "   artifact_location content:  file:///app/mlruns/0\n",
      "C:\\Users\\Miguel\\ImageFinder\\app\\mlruns\\0\\d08c5bac354b4c92bcba274b2ccb5247\\meta.yaml\n",
      "   artifact_uri content:  file:///app/mlruns/0/d08c5bac354b4c92bcba274b2ccb5247/artifacts\n",
      "C:\\Users\\Miguel\\ImageFinder\\app\\mlruns\\0\\de181724bd1b4a73a30f0c0a00315b97\\meta.yaml\n",
      "   artifact_uri content:  file:///app/mlruns/0/de181724bd1b4a73a30f0c0a00315b97/artifacts\n",
      "C:\\Users\\Miguel\\ImageFinder\\app\\mlruns\\models\\ImageFinder_models\\meta.yaml\n",
      "C:\\Users\\Miguel\\ImageFinder\\app\\mlruns\\models\\ImageFinder_models\\version-1\\meta.yaml\n",
      "   source content:  file:///app/mlruns/0/de181724bd1b4a73a30f0c0a00315b97/artifacts/ImageFinder-run\n"
     ]
    }
   ],
   "source": [
    "root = r\"C:\\Users\\Miguel\\ImageFinder\\app\\mlruns\"\n",
    "ini_patern = 'file:C:/Users/Miguel/ImageFinder/app'\n",
    "end_patern = 'file:///app'\n",
    "edit_yml = False\n",
    "\n",
    "for path, subdirs, files in os.walk(root):\n",
    "    for name in files:\n",
    "        if name == 'meta.yaml':\n",
    "            print(os.path.join(path, name))\n",
    "            yml_path = os.path.join(path, name)\n",
    "            with open(yml_path) as f:\n",
    "                doc = yaml.load(f,Loader)\n",
    "            \n",
    "            edit_content(doc, 'source', edit_yml, yml_path, ini_patern, end_patern )\n",
    "            edit_content(doc, 'artifact_uri', edit_yml, yml_path, ini_patern, end_patern )\n",
    "            edit_content(doc, 'artifact_location', edit_yml, yml_path, ini_patern, end_patern )"
   ]
  },
  {
   "cell_type": "code",
   "execution_count": null,
   "id": "fb089b5e-4149-4966-bfae-1401dbce5d47",
   "metadata": {},
   "outputs": [],
   "source": []
  },
  {
   "cell_type": "code",
   "execution_count": null,
   "id": "09108f02-310d-4b3d-a560-d506d92b9a0f",
   "metadata": {},
   "outputs": [],
   "source": []
  }
 ],
 "metadata": {
  "kernelspec": {
   "display_name": "Python 3 (ipykernel)",
   "language": "python",
   "name": "python3"
  },
  "language_info": {
   "codemirror_mode": {
    "name": "ipython",
    "version": 3
   },
   "file_extension": ".py",
   "mimetype": "text/x-python",
   "name": "python",
   "nbconvert_exporter": "python",
   "pygments_lexer": "ipython3",
   "version": "3.9.13"
  }
 },
 "nbformat": 4,
 "nbformat_minor": 5
}
